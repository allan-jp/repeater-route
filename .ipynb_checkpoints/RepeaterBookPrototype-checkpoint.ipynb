{
 "cells": [
  {
   "cell_type": "markdown",
   "id": "00cdda14-a0fe-4b57-9e00-f7899027875a",
   "metadata": {},
   "source": [
    "Testing the capabilities of the repeaterbook module...."
   ]
  },
  {
   "cell_type": "code",
   "execution_count": 17,
   "id": "943921e8-30f7-4961-a82c-b03df8f52a06",
   "metadata": {},
   "outputs": [
    {
     "name": "stdout",
     "output_type": "stream",
     "text": [
      "Wrote 3500 repeaters to US_Repeaters.json\n"
     ]
    }
   ],
   "source": [
    "import requests\n",
    "import json\n",
    "\n",
    "# ─── Hard-coded User-Agent info ────────────────────────────────────────────────\n",
    "USER_EMAIL      = \"you@example.com\"\n",
    "PROGRAM_NAME    = \"repeater-route\"\n",
    "PROGRAM_VERSION = \"0.1.0\"\n",
    "HEADERS = {\n",
    "    \"User-Agent\": f\"{USER_EMAIL} {PROGRAM_NAME}/{PROGRAM_VERSION}\"\n",
    "}\n",
    "\n",
    "# ─── Endpoint & params ─────────────────────────────────────────────────────────\n",
    "API_URL = \"https://www.repeaterbook.com/api/export.php\"\n",
    "PARAMS  = {\"country\": \"United States\"}   # fetch the full US dataset\n",
    "\n",
    "# ─── Fetch the data ───────────────────────────────────────────────────────────\n",
    "resp = requests.get(API_URL, params=PARAMS, headers=HEADERS)\n",
    "resp.raise_for_status()\n",
    "\n",
    "# ─── Parse as JSON and write to disk ───────────────────────────────────────────\n",
    "data = resp.json()\n",
    "with open(\"US_Repeaters.json\", \"w\") as f:\n",
    "    json.dump(data, f, indent=2)\n",
    "\n",
    "print(f\"Wrote {data.get('count', len(data.get('results', [])))} repeaters to US_Repeaters.json\")\n"
   ]
  }
 ],
 "metadata": {
  "kernelspec": {
   "display_name": "Python 3 (ipykernel)",
   "language": "python",
   "name": "python3"
  },
  "language_info": {
   "codemirror_mode": {
    "name": "ipython",
    "version": 3
   },
   "file_extension": ".py",
   "mimetype": "text/x-python",
   "name": "python",
   "nbconvert_exporter": "python",
   "pygments_lexer": "ipython3",
   "version": "3.13.3"
  }
 },
 "nbformat": 4,
 "nbformat_minor": 5
}
