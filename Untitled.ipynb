{
 "cells": [
  {
   "cell_type": "markdown",
   "id": "00cdda14-a0fe-4b57-9e00-f7899027875a",
   "metadata": {},
   "source": [
    "Testing the capabilities of the repeaterbook module...."
   ]
  },
  {
   "cell_type": "code",
   "execution_count": 1,
   "id": "35e64c4d-78b0-4f93-8c52-f7c88ae14089",
   "metadata": {},
   "outputs": [
    {
     "ename": "ModuleNotFoundError",
     "evalue": "No module named 'repeaterbook'",
     "output_type": "error",
     "traceback": [
      "\u001b[31m---------------------------------------------------------------------------\u001b[39m",
      "\u001b[31mModuleNotFoundError\u001b[39m                       Traceback (most recent call last)",
      "\u001b[36mCell\u001b[39m\u001b[36m \u001b[39m\u001b[32mIn[1]\u001b[39m\u001b[32m, line 1\u001b[39m\n\u001b[32m----> \u001b[39m\u001b[32m1\u001b[39m \u001b[38;5;28;01mfrom\u001b[39;00m\u001b[38;5;250m \u001b[39m\u001b[34;01mrepeaterbook\u001b[39;00m\u001b[38;5;250m \u001b[39m\u001b[38;5;28;01mimport\u001b[39;00m RepeaterBook\n\u001b[32m      3\u001b[39m rb = RepeaterBook()\n",
      "\u001b[31mModuleNotFoundError\u001b[39m: No module named 'repeaterbook'"
     ]
    }
   ],
   "source": [
    "from repeaterbook import RepeaterBook\n",
    "\n",
    "rb = RepeaterBook()"
   ]
  },
  {
   "cell_type": "markdown",
   "id": "a8a9fa5a-89ac-45f0-a9c6-8399f3b12fe2",
   "metadata": {},
   "source": []
  }
 ],
 "metadata": {
  "kernelspec": {
   "display_name": "Python 3 (ipykernel)",
   "language": "python",
   "name": "python3"
  },
  "language_info": {
   "codemirror_mode": {
    "name": "ipython",
    "version": 3
   },
   "file_extension": ".py",
   "mimetype": "text/x-python",
   "name": "python",
   "nbconvert_exporter": "python",
   "pygments_lexer": "ipython3",
   "version": "3.13.3"
  }
 },
 "nbformat": 4,
 "nbformat_minor": 5
}
